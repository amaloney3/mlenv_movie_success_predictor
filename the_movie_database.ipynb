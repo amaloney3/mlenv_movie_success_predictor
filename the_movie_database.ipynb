{
 "cells": [
  {
   "cell_type": "code",
   "execution_count": 1,
   "metadata": {},
   "outputs": [],
   "source": [
    "import numpy as np\n",
    "import pandas as pd\n",
    "import datetime\n",
    "import re\n",
    "import csv\n",
    "import json\n",
    "import os"
   ]
  },
  {
   "cell_type": "code",
   "execution_count": 2,
   "metadata": {},
   "outputs": [
    {
     "name": "stdout",
     "output_type": "stream",
     "text": [
      "            revenue       runtime  vote_average    vote_count\n",
      "count  4.546000e+04  45203.000000  45460.000000  45460.000000\n",
      "mean   1.120935e+07     94.128199      5.618207    109.897338\n",
      "std    6.433225e+07     38.407810      1.924216    491.310374\n",
      "min    0.000000e+00      0.000000      0.000000      0.000000\n",
      "25%    0.000000e+00     85.000000      5.000000      3.000000\n",
      "50%    0.000000e+00     95.000000      6.000000     10.000000\n",
      "75%    0.000000e+00    107.000000      6.800000     34.000000\n",
      "max    2.787965e+09   1256.000000     10.000000  14075.000000\n",
      "Index(['adult', 'belongs_to_collection', 'budget', 'genres', 'homepage', 'id',\n",
      "       'imdb_id', 'original_language', 'original_title', 'overview',\n",
      "       'popularity', 'poster_path', 'production_companies',\n",
      "       'production_countries', 'release_date', 'revenue', 'runtime',\n",
      "       'spoken_languages', 'status', 'tagline', 'title', 'video',\n",
      "       'vote_average', 'vote_count'],\n",
      "      dtype='object')\n",
      "object\n"
     ]
    }
   ],
   "source": [
    "# Read in \"The Movies dataset\"\n",
    "# if this is read in as csv, each row is a string and dictionaries are not recognized.\n",
    "df=pd.read_csv(\"Resources/movies_metadata.csv\", low_memory=False)\n",
    "print(df.describe())\n",
    "print(df.columns)\n",
    "print(df[\"release_date\"].dtypes)"
   ]
  },
  {
   "cell_type": "code",
   "execution_count": 141,
   "metadata": {},
   "outputs": [
    {
     "name": "stdout",
     "output_type": "stream",
     "text": [
      "0                object\n",
      "1                object\n",
      "release_year    float64\n",
      "dtype: object\n",
      "null rows: release_year    90\n",
      "dtype: int64\n",
      "number of movies: 45376\n",
      "release_year    float64\n",
      "dtype: object\n"
     ]
    }
   ],
   "source": [
    "# clean up and change release_date to datetime\n",
    "# save at each change to make reverting easy\n",
    "r_date=df[\"release_date\"]\n",
    "r_date.str.strip()  #remove spaces\n",
    "form1=r'(^[0-9]{4})'\n",
    "rel_year = r_date.str.extract(f'({form1})')  #extract just year\n",
    "rel_year[\"release_year\"]=pd.to_numeric(rel_year[0])\n",
    "print(rel_year.dtypes)\n",
    "rel_year.drop([0,1],axis=1,inplace=True)\n",
    "print(f'null rows: {rel_year.isnull().sum()}')\n",
    "rel_year.dropna(how=\"any\", inplace=True)\n",
    "print(f'number of movies: {len(rel_year)}')\n",
    "print(rel_year.dtypes)"
   ]
  },
  {
   "cell_type": "code",
   "execution_count": 154,
   "metadata": {},
   "outputs": [
    {
     "data": {
      "text/plain": [
       "2014.0    1974\n",
       "2015.0    1905\n",
       "2013.0    1889\n",
       "2012.0    1722\n",
       "2011.0    1667\n",
       "2016.0    1604\n",
       "2009.0    1586\n",
       "2010.0    1501\n",
       "2008.0    1473\n",
       "2007.0    1320\n",
       "2006.0    1270\n",
       "2005.0    1125\n",
       "2004.0     992\n",
       "2002.0     905\n",
       "2003.0     882\n",
       "2001.0     865\n",
       "2000.0     789\n",
       "1999.0     723\n",
       "1998.0     722\n",
       "1997.0     661\n",
       "1996.0     633\n",
       "1995.0     599\n",
       "1994.0     544\n",
       "2017.0     532\n",
       "1993.0     489\n",
       "1992.0     453\n",
       "1990.0     427\n",
       "1991.0     426\n",
       "2018.0       5\n",
       "2020.0       1\n",
       "Name: release_year, dtype: int64"
      ]
     },
     "execution_count": 154,
     "metadata": {},
     "output_type": "execute_result"
    }
   ],
   "source": [
    "rel_year=rel_year[rel_year[\"release_year\"] > 1989]\n",
    "year_counts=rel_year[\"release_year\"].value_counts()\n",
    "year_counts"
   ]
  },
  {
   "cell_type": "code",
   "execution_count": 44,
   "metadata": {},
   "outputs": [
    {
     "data": {
      "text/plain": [
       "29684"
      ]
     },
     "execution_count": 44,
     "metadata": {},
     "output_type": "execute_result"
    }
   ],
   "source": [
    "len(rel_year)"
   ]
  },
  {
   "cell_type": "code",
   "execution_count": 119,
   "metadata": {},
   "outputs": [
    {
     "name": "stdout",
     "output_type": "stream",
     "text": [
      "1    21153\n",
      "dtype: int64\n"
     ]
    },
    {
     "data": {
      "text/plain": [
       "21153"
      ]
     },
     "execution_count": 119,
     "metadata": {},
     "output_type": "execute_result"
    }
   ],
   "source": [
    "# production_companies is a string that looks like a list of dictionaries\n",
    "# filter rows to keep only those with 'iso_3166_1' = 'US'\n",
    "pd_countries=df[\"production_countries\"]  # pd_countries is a series\n",
    "form1=r\"'iso_3166_1':\\s*('US')\"\n",
    "country = pd_countries.str.extract(f'({form1})')\n",
    "country.drop([0],axis=1,inplace=True)\n",
    "print(country.notnull().sum())\n",
    "country.dropna(how=\"any\", inplace=True)\n",
    "len(country)\n"
   ]
  },
  {
   "cell_type": "code",
   "execution_count": 155,
   "metadata": {},
   "outputs": [
    {
     "data": {
      "text/plain": [
       "12906"
      ]
     },
     "execution_count": 155,
     "metadata": {},
     "output_type": "execute_result"
    }
   ],
   "source": [
    "movies_year_df = pd.concat([df, rel_year, country], axis=1, ignore_index=False, join=\"inner\")\n",
    "len(movies_year_df)"
   ]
  },
  {
   "cell_type": "code",
   "execution_count": 156,
   "metadata": {},
   "outputs": [
    {
     "data": {
      "text/plain": [
       "Index([                'adult', 'belongs_to_collection',\n",
       "                      'budget',                'genres',\n",
       "                    'homepage',                    'id',\n",
       "                     'imdb_id',     'original_language',\n",
       "              'original_title',              'overview',\n",
       "                  'popularity',           'poster_path',\n",
       "        'production_companies',  'production_countries',\n",
       "                'release_date',               'revenue',\n",
       "                     'runtime',      'spoken_languages',\n",
       "                      'status',               'tagline',\n",
       "                       'title',                 'video',\n",
       "                'vote_average',            'vote_count',\n",
       "                'release_year',                       1],\n",
       "      dtype='object')"
      ]
     },
     "execution_count": 156,
     "metadata": {},
     "output_type": "execute_result"
    }
   ],
   "source": [
    "movies_year_df.columns"
   ]
  },
  {
   "cell_type": "code",
   "execution_count": 157,
   "metadata": {},
   "outputs": [
    {
     "data": {
      "text/plain": [
       "2014.0    820\n",
       "2015.0    788\n",
       "2013.0    740\n",
       "2016.0    707\n",
       "2011.0    659\n",
       "2012.0    658\n",
       "2009.0    633\n",
       "2008.0    622\n",
       "2007.0    565\n",
       "2010.0    547\n",
       "2006.0    541\n",
       "2005.0    472\n",
       "2004.0    391\n",
       "2002.0    383\n",
       "1996.0    359\n",
       "2001.0    357\n",
       "2000.0    356\n",
       "1998.0    355\n",
       "2003.0    348\n",
       "1999.0    335\n",
       "1997.0    332\n",
       "1995.0    320\n",
       "2017.0    295\n",
       "1994.0    292\n",
       "1993.0    281\n",
       "1990.0    256\n",
       "1991.0    249\n",
       "1992.0    242\n",
       "2018.0      2\n",
       "2020.0      1\n",
       "Name: release_year, dtype: int64"
      ]
     },
     "execution_count": 157,
     "metadata": {},
     "output_type": "execute_result"
    }
   ],
   "source": [
    "movies_year_df[\"release_year\"].value_counts()"
   ]
  },
  {
   "cell_type": "code",
   "execution_count": null,
   "metadata": {},
   "outputs": [],
   "source": [
    "# Save to csv\n",
    "file_path =\"Resources/segment1_input.csv\"\n",
    "movies_year_df.to_csv(file_path,index=False)\n"
   ]
  }
 ],
 "metadata": {
  "kernelspec": {
   "display_name": "py37nbext",
   "language": "python",
   "name": "py37nbext"
  },
  "language_info": {
   "codemirror_mode": {
    "name": "ipython",
    "version": 3
   },
   "file_extension": ".py",
   "mimetype": "text/x-python",
   "name": "python",
   "nbconvert_exporter": "python",
   "pygments_lexer": "ipython3",
   "version": "3.7.10"
  }
 },
 "nbformat": 4,
 "nbformat_minor": 4
}
