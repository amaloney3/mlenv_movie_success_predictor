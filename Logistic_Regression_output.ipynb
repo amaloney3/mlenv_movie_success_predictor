{
 "cells": [
  {
   "cell_type": "markdown",
   "metadata": {},
   "source": [
    "# Learning Model Segment 3"
   ]
  },
  {
   "cell_type": "markdown",
   "metadata": {},
   "source": [
    "#### Looks at different types of supervised and deep learning models:\n",
    "  * Logistic Regression    \n",
    "  * Support Vector Machine\n",
    "  * Deep Learning Model\n",
    "  * Random Forest Model"
   ]
  },
  {
   "cell_type": "code",
   "execution_count": 1,
   "metadata": {},
   "outputs": [],
   "source": [
    "# Choose type of model to run:\n",
    "#     LR = logistic regression, NN = neural net, SV = support vector machine, RF = Random Forest Classifier\n",
    "\n",
    "model_type = 'LR' "
   ]
  },
  {
   "cell_type": "code",
   "execution_count": 2,
   "metadata": {},
   "outputs": [
    {
     "name": "stdout",
     "output_type": "stream",
     "text": [
      "LR U\n"
     ]
    }
   ],
   "source": [
    "def select_model(mtype):\n",
    "    if mtype == 'LR':\n",
    "        return 'U'\n",
    "    elif mtype == 'NN':\n",
    "        return 'S'\n",
    "    elif mtype == 'SV':\n",
    "        return 'S'\n",
    "    elif mtype == 'RF':\n",
    "        return 'S'\n",
    "dataset = select_model(model_type)\n",
    "print(model_type, dataset)"
   ]
  },
  {
   "cell_type": "code",
   "execution_count": 3,
   "metadata": {},
   "outputs": [],
   "source": [
    "# Import dependancies\n",
    "import warnings\n",
    "warnings.filterwarnings('ignore')\n",
    "import numpy as np\n",
    "import pandas as pd\n",
    "import datetime as dt\n",
    "from sqlalchemy import create_engine\n",
    "import psycopg2\n",
    "import config as creds\n",
    "import re\n",
    "import csv\n",
    "from sklearn.model_selection import train_test_split\n",
    "from sklearn.linear_model import LogisticRegression\n",
    "from sklearn.svm import SVC\n",
    "from sklearn.ensemble import RandomForestClassifier\n",
    "from sklearn.metrics import confusion_matrix, accuracy_score, classification_report\n",
    "from sklearn.preprocessing import StandardScaler,OneHotEncoder\n",
    "from sklearn.metrics import accuracy_score\n",
    "import tensorflow as tf\n",
    "import matplotlib.pyplot as plt\n",
    "import seaborn as sns\n",
    "%matplotlib inline"
   ]
  },
  {
   "cell_type": "markdown",
   "metadata": {},
   "source": [
    "## Import data from csv file"
   ]
  },
  {
   "cell_type": "code",
   "execution_count": 4,
   "metadata": {},
   "outputs": [
    {
     "name": "stdout",
     "output_type": "stream",
     "text": [
      "Index(['duration', 'g_Action_IM', 'g_Adult', 'g_Adventure_IM',\n",
      "       'g_Animation_IM', 'g_Biography', 'g_Comedy_IM', 'g_Crime_IM',\n",
      "       'g_Documentary_IM', 'g_Drama_IM', 'g_Family_IM', 'g_Fantasy_IM',\n",
      "       'g_History_IM', 'g_Horror_IM', 'g_Music_IM', 'g_Musical',\n",
      "       'g_Mystery_IM', 'g_Romance_IM', 'g_Thriller_IM', 'g_War_IM',\n",
      "       'g_Western_IM', 'release_year_IM', 'success'],\n",
      "      dtype='object')\n"
     ]
    }
   ],
   "source": [
    "# input merged dataset and select the appropriate dataframe\n",
    "df=pd.read_csv(\"Resources/merged_movies.csv\", low_memory=False)\n",
    "\n",
    "# drop genre variables from TMDB \n",
    "df.drop(['g_Action_TM', 'g_Adventure_TM', 'g_Animation_TM', 'g_Comedy_TM', 'g_Crime_TM', \n",
    "       'g_Documentary_TM', 'g_Drama_TM', 'g_Family_TM', 'g_Fantasy_TM', 'g_History_TM', 'g_Horror_TM',\n",
    "       'g_Music_TM', 'g_Mystery_TM', 'g_News', 'g_Reality_TV', 'g_Romance_TM',\n",
    "       'g_Sci_Fi', 'g_Sport', 'g_Thriller_TM','g_War_TM', 'g_Western_TM'], axis=1, inplace=True)\n",
    "\n",
    "# drop columns with high percentage of missing values, and not needed\n",
    "df.drop([\"budget_IM\", \"budget_TM\", \"collection\", \"g_Foreign\", \"genre_name\", \"metascore\", \"orig_lang_cd\", \n",
    "              \"original_language\", \"popularity\", \"release_year_TM\", \"revenue\", \"runtime\", \"usa_gross_income\", \n",
    "              \"website\", \"worlwide_gross_income\", \"year\"], axis=1, inplace=True)\n",
    "\n",
    "# drop columns with too many unique values \n",
    "df.drop([\"_merge\", \"director_list\", \"country\", \"genre_list\", \"imdb_id\", \"language\", \"title\"], axis=1, inplace=True)\n",
    "\n",
    "# Drop any rows with missing values. Reassess whether the nulls can/should be recoded and kept.\n",
    "df.dropna(axis=0, how=\"any\", inplace=True)\n",
    "\n",
    "# Choose dependent = predicted value:\n",
    "# Options: avg_vote, reviews_from_critics, reviews_from_users, votes\n",
    "# For this model pass, use avg_vote >= 7 as success\n",
    "df[\"success\"] = df[\"avg_vote\"].map(lambda x: 1 if x>= 7.0 else 0)\n",
    "\n",
    "# Drop unneeded dependent variables\n",
    "df.drop([\"avg_vote\", \"reviews_from_users\", \"reviews_from_critics\", \"votes\"], axis=1, inplace=True)\n",
    "\n",
    "# Categorical variables for encoding, if needed\n",
    "cat_vars = ['g_Action_IM', 'g_Adult', 'g_Adventure_IM',\n",
    "       'g_Animation_IM', 'g_Biography', 'g_Comedy_IM', 'g_Crime_IM',\n",
    "       'g_Documentary_IM', 'g_Drama_IM', 'g_Family_IM', 'g_Fantasy_IM',\n",
    "       'g_History_IM', 'g_Horror_IM', 'g_Music_IM', 'g_Musical',\n",
    "       'g_Mystery_IM', 'g_Romance_IM', 'g_Thriller_IM', 'g_War_IM',\n",
    "       'g_Western_IM']\n",
    "\n",
    "print(df.columns)"
   ]
  },
  {
   "cell_type": "markdown",
   "metadata": {},
   "source": [
    "## Pre-process"
   ]
  },
  {
   "cell_type": "code",
   "execution_count": 5,
   "metadata": {},
   "outputs": [],
   "source": [
    "if dataset == 'S':  # create encoded and scaled dataset\n",
    "    # Encode categorical variables\n",
    "    # Create a OneHotEncoder instance\n",
    "    enc = OneHotEncoder(sparse=False)\n",
    "    # Fit and transform the OneHotEncoder using the categorical variable list\n",
    "    encode_df =pd.DataFrame(enc.fit_transform(df[cat_vars]))\n",
    "    # Add the encoded variable names to the DataFrame\n",
    "    encode_df.columns =enc.get_feature_names(cat_vars)\n",
    "    # Merge one-hot encoded features and drop the originals\n",
    "    df =df.merge(encode_df,left_index=True,right_index=True)\n",
    "    df.drop(cat_vars,axis=1, inplace=True)"
   ]
  },
  {
   "cell_type": "markdown",
   "metadata": {},
   "source": [
    "## Create Sample Datasets"
   ]
  },
  {
   "cell_type": "code",
   "execution_count": 6,
   "metadata": {},
   "outputs": [],
   "source": [
    "# Split our preprocessed data into our features and target arrays\n",
    "y =df[\"success\"]\n",
    "# y =df[\"success\"].values\n",
    "X =df.drop([\"success\"],1)\n",
    "# X =df.drop([\"success\"],1).values\n",
    "\n",
    "# Split the preprocessed data into a training and testing dataset\n",
    "X_train,X_test,y_train,y_test =train_test_split(X,y,stratify=y,random_state=78)"
   ]
  },
  {
   "cell_type": "markdown",
   "metadata": {},
   "source": [
    "## Scale data if needed"
   ]
  },
  {
   "cell_type": "code",
   "execution_count": 7,
   "metadata": {},
   "outputs": [],
   "source": [
    "if dataset == 'S':  # create encoded and scaled dataset\n",
    "    X_scaler = StandardScaler()\n",
    "    # Fit the scaler\n",
    "    X_scaler.fit(X_train)\n",
    "    # Scale the data\n",
    "    X_train =X_scaler.transform(X_train)\n",
    "    X_test =X_scaler.transform(X_test)"
   ]
  },
  {
   "cell_type": "markdown",
   "metadata": {},
   "source": [
    "## Define the learning model"
   ]
  },
  {
   "cell_type": "code",
   "execution_count": 8,
   "metadata": {},
   "outputs": [],
   "source": [
    "if model_type == \"RF\":\n",
    "    rf_model = RandomForestClassifier(n_estimators=128, random_state=78) \n",
    "    rf_model = rf_model.fit(X_train, y_train)\n",
    "    predictions = rf_model.predict(X_test)\n",
    "    cm = confusion_matrix(y_test, predictions)\n",
    "    \n",
    "    # Create a DataFrame from the confusion matrix.\n",
    "    cm_df = pd.DataFrame(cm, index=[\"Actual 0\", \"Actual 1\"], columns=[\"Predicted 0\", \"Predicted 1\"])\n",
    "    acc_score = accuracy_score(y_test, predictions)\n",
    "    \n",
    "    print(\"Confusion Matrix\")\n",
    "    display(cm_df)\n",
    "    print(f\"Accuracy Score : {acc_score}\")\n",
    "    print(\"Classification Report\")\n",
    "    print(classification_report(y_test, predictions))\n",
    "    \n",
    "    # Calculate feature importance in the Random Forest model.\n",
    "    importances = rf_model.feature_importances_\n",
    "    output=sorted(zip(rf_model.feature_importances_, X.columns), reverse=True)\n",
    "    output_df = pd.DataFrame(output, columns = ['importance','feature'])\n",
    "    print(output_df)"
   ]
  },
  {
   "cell_type": "code",
   "execution_count": 9,
   "metadata": {},
   "outputs": [
    {
     "name": "stdout",
     "output_type": "stream",
     "text": [
      "<class 'pandas.core.frame.DataFrame'>\n",
      "<class 'pandas.core.series.Series'>\n",
      " Logistic regression model accuracy: 0.831\n"
     ]
    }
   ],
   "source": [
    "if model_type == \"LR\":\n",
    "    log_classifier =LogisticRegression(solver=\"lbfgs\",max_iter=200)\n",
    "    print(type(X_train))\n",
    "    print(type(y_train))\n",
    "    \n",
    "    # Train the model\n",
    "    log_classifier.fit(X_train,y_train)\n",
    "\n",
    "    # Evaluate the model\n",
    "    y_pred =log_classifier.predict(X_test)\n",
    "    print(f\" Logistic regression model accuracy: {accuracy_score(y_test,y_pred):.3f}\")"
   ]
  },
  {
   "cell_type": "code",
   "execution_count": 10,
   "metadata": {},
   "outputs": [],
   "source": [
    "if model_type == \"SV\":\n",
    "    # Create the SVM model\n",
    "    svm =SVC(kernel='linear')\n",
    "    print('created svm')\n",
    "    \n",
    "    # Train the model\n",
    "    svm.fit(X_train,y_train)\n",
    "    print('fit svm')\n",
    "    \n",
    "    # Evaluate the model\n",
    "    y_pred =svm.predict(X_test)\n",
    "    print('predicted svm')\n",
    "    print(f\" SVM model accuracy: {accuracy_score(y_test,y_pred):.3f}\")"
   ]
  },
  {
   "cell_type": "code",
   "execution_count": 11,
   "metadata": {},
   "outputs": [],
   "source": [
    "if model_type == \"NN\":\n",
    "    # Create the Keras Sequential model\n",
    "    # use validation_split argument to set the proportion of the dataset to reserve for validation\n",
    "    number_input_features =len(X_train[0])\n",
    "    hidden_nodes_layer1 = 5\n",
    "    hidden_nodes_layer2 = 3\n",
    "    nn =tf.keras.models.Sequential()\n",
    "    # layers\n",
    "    nn.add(tf.keras.layers.Dense(units=hidden_nodes_layer1,activation=\"tanh\",input_dim=number_input_features))\n",
    "    nn.add(tf.keras.layers.Dense(units=hidden_nodes_layer2,activation=\"tanh\"))\n",
    "\n",
    "    # Add the output layer that uses a probability activation function\n",
    "    nn.add(tf.keras.layers.Dense(units=1,activation=\"sigmoid\"))\n",
    "    \n",
    "    # Check the structure of the Sequential model\n",
    "    nn.summary()\n",
    "\n",
    "    # Compile the Sequential model together and customize metrics\n",
    "    nn.compile(loss=\"binary_crossentropy\",optimizer=\"adam\",metrics=[\"accuracy\"])\n",
    "\n",
    "    # Fit the model to the training data\n",
    "    fit_model =nn.fit(X_train,y_train,validation_split=.3, epochs=30)\n",
    "\n",
    "    # Evaluate the model using the test data\n",
    "    model_loss,model_accuracy =nn.evaluate(X_test,y_test,verbose=2)\n",
    "    print(f\"Loss: {model_loss}, Accuracy: {model_accuracy}\")\n",
    "    \n",
    "    # Create learning curve for both train and validation datasets to evaluate under- and over-fitting\n",
    "\n",
    "    history_dict=fit_model.history\n",
    "\n",
    "    loss_values = history_dict['loss']\n",
    "    val_loss_values = history_dict['val_loss']\n",
    "    accuracy = history_dict['accuracy']\n",
    "    val_accuracy = history_dict['val_accuracy']\n",
    "\n",
    "    epochs = range(1, len(loss_values) + 1)\n",
    "    fig, ax = plt.subplots(1, 2, figsize=(14, 4))\n",
    "    #\n",
    "    # Plot the model accuracy vs Epochs\n",
    "    #\n",
    "    ax[0].plot(epochs, accuracy, 'b', label='Training accuracy')\n",
    "    ax[0].plot(epochs, val_accuracy, 'g', label='Validation accuracy')\n",
    "    ax[0].set_title('Training & Validation Accuracy', fontsize=16)\n",
    "    ax[0].set_xlabel('Epochs', fontsize=16)\n",
    "    ax[0].set_ylabel('Accuracy', fontsize=16)\n",
    "    ax[0].legend()\n",
    "    #\n",
    "    # Plot the loss vs Epochs\n",
    "    #\n",
    "    ax[1].plot(epochs, loss_values, 'b', label='Training loss')\n",
    "    ax[1].plot(epochs, val_loss_values, 'g', label='Validation loss')\n",
    "    ax[1].set_title('Training & Validation Loss', fontsize=16)\n",
    "    ax[1].set_xlabel('Epochs', fontsize=16)\n",
    "    ax[1].set_ylabel('Loss', fontsize=16)\n",
    "    ax[1].legend()\n",
    "\n",
    "    plt.show()"
   ]
  },
  {
   "cell_type": "code",
   "execution_count": null,
   "metadata": {},
   "outputs": [],
   "source": []
  },
  {
   "cell_type": "code",
   "execution_count": null,
   "metadata": {},
   "outputs": [],
   "source": []
  }
 ],
 "metadata": {
  "kernelspec": {
   "display_name": "py37nbext",
   "language": "python",
   "name": "py37nbext"
  },
  "language_info": {
   "codemirror_mode": {
    "name": "ipython",
    "version": 3
   },
   "file_extension": ".py",
   "mimetype": "text/x-python",
   "name": "python",
   "nbconvert_exporter": "python",
   "pygments_lexer": "ipython3",
   "version": "3.7.10"
  }
 },
 "nbformat": 4,
 "nbformat_minor": 4
}
