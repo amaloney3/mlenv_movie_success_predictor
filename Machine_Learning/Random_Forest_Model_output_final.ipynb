{
 "cells": [
  {
   "cell_type": "markdown",
   "metadata": {},
   "source": [
    "# Learning Model Segment 4"
   ]
  },
  {
   "cell_type": "markdown",
   "metadata": {},
   "source": [
    "#### Looks at different types of supervised and deep learning models:\n",
    "  * Logistic Regression    \n",
    "  * Support Vector Machine\n",
    "  * Deep Learning Model\n",
    "  * Random Forest Model"
   ]
  },
  {
   "cell_type": "code",
   "execution_count": 1,
   "metadata": {},
   "outputs": [],
   "source": [
    "# Choose type of model to run:\n",
    "#     LR = logistic regression, NN = neural net, SV = support vector machine, RF = Random Forest Classifier\n",
    "\n",
    "model_type = 'RF' "
   ]
  },
  {
   "cell_type": "code",
   "execution_count": 2,
   "metadata": {},
   "outputs": [
    {
     "name": "stdout",
     "output_type": "stream",
     "text": [
      "RF S\n"
     ]
    }
   ],
   "source": [
    "def select_model(mtype):\n",
    "    if mtype == 'LR':\n",
    "        return 'U'\n",
    "    elif mtype == 'NN':\n",
    "        return 'S'\n",
    "    elif mtype == 'SV':\n",
    "        return 'S'\n",
    "    elif mtype == 'RF':\n",
    "        return 'S'\n",
    "dataset = select_model(model_type)\n",
    "print(model_type, dataset)"
   ]
  },
  {
   "cell_type": "code",
   "execution_count": 3,
   "metadata": {},
   "outputs": [],
   "source": [
    "# Import dependancies\n",
    "import warnings\n",
    "warnings.filterwarnings('ignore')\n",
    "import numpy as np\n",
    "import pandas as pd\n",
    "import datetime as dt\n",
    "from sqlalchemy import create_engine\n",
    "import psycopg2\n",
    "import config as creds\n",
    "import re\n",
    "import csv\n",
    "from sklearn.model_selection import train_test_split\n",
    "from sklearn.linear_model import LogisticRegression\n",
    "from sklearn.svm import SVC\n",
    "from sklearn.svm import LinearSVC\n",
    "from sklearn.ensemble import RandomForestClassifier\n",
    "from sklearn.metrics import confusion_matrix, accuracy_score, classification_report\n",
    "from sklearn.preprocessing import StandardScaler,OneHotEncoder\n",
    "from sklearn.metrics import accuracy_score\n",
    "import tensorflow as tf\n",
    "import matplotlib.pyplot as plt\n",
    "import seaborn as sns\n",
    "%matplotlib inline"
   ]
  },
  {
   "cell_type": "markdown",
   "metadata": {},
   "source": [
    "## Import data from Postgres db in AWS"
   ]
  },
  {
   "cell_type": "code",
   "execution_count": 4,
   "metadata": {},
   "outputs": [
    {
     "name": "stdout",
     "output_type": "stream",
     "text": [
      "Connected!\n"
     ]
    }
   ],
   "source": [
    "# import all from config to get credentials and host and database names in postgress\n",
    "from config import * \n",
    "database_string = f\"postgresql://{PGUSER}:{PGPASSWORD}@{PGHOST}/{PGDATABASE}\"\n",
    "\n",
    "# create variable for the engine\n",
    "engine = create_engine(database_string)\n",
    "\n",
    "#def connect():\n",
    "# Set up a connection to the postgres server.\n",
    "conn_string = \"host=\"+ creds.PGHOST +\" port=\"+ \"5432\" +\" dbname=\"+ creds.PGDATABASE +\" user=\" + creds.PGUSER \\\n",
    "                  +\" password=\"+ creds.PGPASSWORD\n",
    "conn = psycopg2.connect(conn_string)\n",
    "print(\"Connected!\")\n",
    "# Create a cursor object\n",
    "cursor = conn.cursor()\n",
    "#return conn, cursor"
   ]
  },
  {
   "cell_type": "code",
   "execution_count": 5,
   "metadata": {},
   "outputs": [],
   "source": [
    "# read file from AWS joined_tables2 contains the combined IMDB/TMDB data\n",
    "df = pd.read_sql_query('select * from join_final', conn)"
   ]
  },
  {
   "cell_type": "code",
   "execution_count": 6,
   "metadata": {},
   "outputs": [
    {
     "name": "stdout",
     "output_type": "stream",
     "text": [
      "Index(['year', 'duration', 'g_action', 'g_adult', 'g_adventure', 'g_animation',\n",
      "       'g_biography', 'g_comedy', 'g_crime', 'g_documentary', 'g_drama',\n",
      "       'g_family', 'g_fantasy', 'g_history', 'g_horror', 'g_music',\n",
      "       'g_musical', 'g_mystery', 'g_news', 'g_reality_tv', 'g_romance',\n",
      "       'g_sci_fi', 'g_sport', 'g_thriller', 'g_war', 'g_western', 'success'],\n",
      "      dtype='object')\n",
      "\n",
      " number of movies: 70529\n",
      "\n",
      " numner of success: 12220\n"
     ]
    }
   ],
   "source": [
    "# drop columns with high percentage of missing values, and not needed\n",
    "df.drop([\"budget\", \"collection\", \"metascore\", \"orig_lang_cd\", \"release_year\",\n",
    "              \"original_language\", \"popularity\", \"revenue\", \"runtime\", \"usa_gross_income\", \n",
    "              \"website\", \"worlwide_gross_income\"], axis=1, inplace=True)\n",
    "\n",
    "# drop columns with too many unique values \n",
    "df.drop([\"director_list\", \"country\", \"imdb_id\", \"language\", \"title\"], axis=1, inplace=True)\n",
    "\n",
    "# Choose dependent = predicted value:\n",
    "# Options: avg_vote, reviews_from_critics, reviews_from_users, votes\n",
    "# For this model pass, use avg_vote >= 7 as success\n",
    "df[\"success\"] = df[\"avg_vote\"].map(lambda x: 1 if x>= 7.0 else 0)\n",
    "\n",
    "# Drop unneeded dependent variables\n",
    "df.drop([\"avg_vote\", \"reviews_from_users\", \"reviews_from_critics\", \"votes\"], axis=1, inplace=True)\n",
    "\n",
    "# Drop any rows with missing values. Reassess whether the nulls can/should be recoded and kept.\n",
    "df.dropna(axis=0, how=\"any\", inplace=True)\n",
    "\n",
    "# Categorical variables for encoding, if needed\n",
    "cat_vars = [ 'g_action', 'g_adult',\n",
    "       'g_adventure', 'g_animation', 'g_biography', 'g_comedy', 'g_crime',\n",
    "       'g_documentary', 'g_drama', 'g_family', 'g_fantasy', 'g_history',\n",
    "       'g_horror', 'g_music', 'g_musical', 'g_mystery', 'g_news',\n",
    "       'g_reality_tv', 'g_romance', 'g_sci_fi', 'g_sport', 'g_thriller',\n",
    "       'g_war', 'g_western']\n",
    "\n",
    "print(df.columns)\n",
    "print(f'\\n number of movies: {len(df)}')\n",
    "print(f'\\n numner of success: {df[\"success\"].sum()}')"
   ]
  },
  {
   "cell_type": "markdown",
   "metadata": {},
   "source": [
    "## Pre-process"
   ]
  },
  {
   "cell_type": "code",
   "execution_count": 7,
   "metadata": {},
   "outputs": [],
   "source": [
    "if dataset == 'S':  # create encoded and scaled dataset\n",
    "    # Encode categorical variables\n",
    "    # Create a OneHotEncoder instance\n",
    "    enc = OneHotEncoder(sparse=False)\n",
    "    # Fit and transform the OneHotEncoder using the categorical variable list\n",
    "    encode_df =pd.DataFrame(enc.fit_transform(df[cat_vars]))\n",
    "    # Add the encoded variable names to the DataFrame\n",
    "    encode_df.columns =enc.get_feature_names(cat_vars)\n",
    "    # Merge one-hot encoded features and drop the originals\n",
    "    df =df.merge(encode_df,left_index=True,right_index=True)\n",
    "    df.drop(cat_vars,axis=1, inplace=True)"
   ]
  },
  {
   "cell_type": "markdown",
   "metadata": {},
   "source": [
    "## Create Sample Datasets"
   ]
  },
  {
   "cell_type": "code",
   "execution_count": 8,
   "metadata": {},
   "outputs": [
    {
     "name": "stdout",
     "output_type": "stream",
     "text": [
      "\n",
      " size of training dataset: 52896\n",
      "\n",
      " size of testing dataset: 17633\n"
     ]
    }
   ],
   "source": [
    "# Split our preprocessed data into our features and target arrays\n",
    "y =df[\"success\"]\n",
    "# y =df[\"success\"].values\n",
    "X =df.drop([\"success\"],1)\n",
    "# X =df.drop([\"success\"],1).values\n",
    "\n",
    "# Split the preprocessed data into a training and testing dataset\n",
    "X_train,X_test,y_train,y_test =train_test_split(X,y,stratify=y,random_state=67)\n",
    "\n",
    "# print sample sizes\n",
    "print(f'\\n size of training dataset: {len(y_train)}')\n",
    "print(f'\\n size of testing dataset: {len(y_test)}')"
   ]
  },
  {
   "cell_type": "markdown",
   "metadata": {},
   "source": [
    "## Scale data if needed"
   ]
  },
  {
   "cell_type": "code",
   "execution_count": 9,
   "metadata": {},
   "outputs": [],
   "source": [
    "if dataset == 'S':  # create encoded and scaled dataset\n",
    "    X_scaler = StandardScaler()\n",
    "    # Fit the scaler\n",
    "    X_scaler.fit(X_train)\n",
    "    # Scale the data\n",
    "    X_train =X_scaler.transform(X_train)\n",
    "    X_test =X_scaler.transform(X_test)"
   ]
  },
  {
   "cell_type": "markdown",
   "metadata": {},
   "source": [
    "## Define the learning model"
   ]
  },
  {
   "cell_type": "markdown",
   "metadata": {},
   "source": [
    "## Random Forest Model"
   ]
  },
  {
   "cell_type": "code",
   "execution_count": 10,
   "metadata": {},
   "outputs": [
    {
     "name": "stdout",
     "output_type": "stream",
     "text": [
      "\n",
      " Random Forest Classifier accuracy: 0.803\n",
      "\n",
      " Confusion Matrix: \n",
      "           Predicted 0  Predicted 1\n",
      "Actual 0        13438         1140\n",
      "Actual 1         2333          722\n",
      "\n",
      " Classification Report: \n",
      "               precision    recall  f1-score   support\n",
      "\n",
      "           0       0.85      0.92      0.89     14578\n",
      "           1       0.39      0.24      0.29      3055\n",
      "\n",
      "    accuracy                           0.80     17633\n",
      "   macro avg       0.62      0.58      0.59     17633\n",
      "weighted avg       0.77      0.80      0.78     17633\n",
      "\n",
      "\n",
      " Feature Importances: \n",
      "       importance          feature\n",
      "0   4.519275e-01         duration\n",
      "1   3.644116e-01             year\n",
      "2   1.666553e-02        g_drama_0\n",
      "3   1.438923e-02        g_drama_1\n",
      "4   6.671588e-03    g_animation_0\n",
      "5   6.633038e-03    g_animation_1\n",
      "6   6.600483e-03       g_horror_0\n",
      "7   6.325885e-03       g_action_0\n",
      "8   6.001543e-03       g_comedy_1\n",
      "9   6.000006e-03       g_action_1\n",
      "10  5.974653e-03       g_horror_1\n",
      "11  5.703193e-03       g_comedy_0\n",
      "12  5.511166e-03      g_romance_0\n",
      "13  5.384984e-03      g_romance_1\n",
      "14  4.835502e-03        g_crime_0\n",
      "15  4.828640e-03        g_crime_1\n",
      "16  4.617641e-03    g_adventure_0\n",
      "17  4.570942e-03    g_biography_1\n",
      "18  4.497725e-03    g_adventure_1\n",
      "19  4.357684e-03     g_thriller_0\n",
      "20  4.006573e-03      g_fantasy_1\n",
      "21  4.001134e-03      g_fantasy_0\n",
      "22  3.931141e-03    g_biography_0\n",
      "23  3.864837e-03      g_history_1\n",
      "24  3.864725e-03     g_thriller_1\n",
      "25  3.736665e-03      g_history_0\n",
      "26  3.643411e-03       g_family_1\n",
      "27  3.638120e-03       g_family_0\n",
      "28  3.327125e-03      g_mystery_0\n",
      "29  3.310558e-03      g_mystery_1\n",
      "30  2.904614e-03        g_music_0\n",
      "31  2.846720e-03       g_sci_fi_1\n",
      "32  2.719136e-03       g_sci_fi_0\n",
      "33  2.630586e-03          g_war_0\n",
      "34  2.599002e-03        g_music_1\n",
      "35  2.417596e-03      g_musical_0\n",
      "36  2.384100e-03          g_war_1\n",
      "37  2.201185e-03      g_musical_1\n",
      "38  1.770960e-03        g_sport_0\n",
      "39  1.769075e-03        g_sport_1\n",
      "40  1.168873e-03      g_western_1\n",
      "41  1.144693e-03      g_western_0\n",
      "42  1.017719e-04  g_documentary_0\n",
      "43  9.582906e-05  g_documentary_1\n",
      "44  4.356125e-06         g_news_0\n",
      "45  3.550606e-06         g_news_1\n",
      "46  1.963946e-06        g_adult_0\n",
      "47  1.287675e-06        g_adult_1\n",
      "48  9.498340e-07   g_reality_tv_1\n",
      "49  9.329253e-07   g_reality_tv_0\n"
     ]
    }
   ],
   "source": [
    "if model_type == \"RF\":\n",
    "    rf_model = RandomForestClassifier(n_estimators=128, random_state=78) \n",
    "    rf_model = rf_model.fit(X_train, y_train)\n",
    "    predictions = rf_model.predict(X_test)\n",
    "    cm = confusion_matrix(y_test, predictions)\n",
    "    \n",
    "    # Create a DataFrame from the confusion matrix.\n",
    "    cm_df = pd.DataFrame(cm, index=[\"Actual 0\", \"Actual 1\"], columns=[\"Predicted 0\", \"Predicted 1\"])\n",
    "    acc_score = accuracy_score(y_test, predictions)\n",
    "    \n",
    "    # Create a DataFrame from the confusion matrix.\n",
    "    cm_df = pd.DataFrame(cm, index=[\"Actual 0\", \"Actual 1\"], columns=[\"Predicted 0\", \"Predicted 1\"])\n",
    "    acc_score = accuracy_score(y_test, predictions)\n",
    "    \n",
    "    print(f\"\\n Random Forest Classifier accuracy: {acc_score:.3f}\")\n",
    "    print(f\"\\n Confusion Matrix: \\n {cm_df}\" )\n",
    "    print(f\"\\n Classification Report: \\n {classification_report(y_test, predictions)}\")\n",
    "    \n",
    "    # Calculate feature importance in the Random Forest model.\n",
    "    importances = rf_model.feature_importances_\n",
    "    output=sorted(zip(rf_model.feature_importances_, X.columns), reverse=True)\n",
    "    output_df = pd.DataFrame(output, columns = ['importance','feature'])\n",
    "    print(f\"\\n Feature Importances: \\n {output_df}\")"
   ]
  },
  {
   "cell_type": "code",
   "execution_count": 11,
   "metadata": {},
   "outputs": [],
   "source": [
    "if model_type == \"LR\":\n",
    "    log_classifier =LogisticRegression(solver=\"lbfgs\",max_iter=200)\n",
    "    log_classifier.fit(X_train,y_train)\n",
    "    y_pred =log_classifier.predict(X_test)\n",
    "    cm = confusion_matrix(y_test, y_pred)\n",
    "    acc_score = accuracy_score(y_test, y_pred)\n",
    "       \n",
    "    # Get coefficients of the model\n",
    "    coef = pd.Series(log_classifier.coef_.ravel())\n",
    "    intercept = log_classifier.intercept_\n",
    "    output=sorted(zip(coef, X.columns), reverse=True)\n",
    "    output_df = pd.DataFrame(output, columns = ['Coefficient','Feature'])\n",
    "    print(f\" Logistic Regression model parameters: \\n {output_df}\")\n",
    "    \n",
    "    # Create a DataFrame from the confusion matrix.\n",
    "    cm_df = pd.DataFrame(cm, index=[\"Actual 0\", \"Actual 1\"], columns=[\"Predicted 0\", \"Predicted 1\"])\n",
    "\n",
    "    # Results\n",
    "    print(f\"\\n Logistic Regression model accuracy: {acc_score:.3f}\")\n",
    "    print(f\"\\n Confusion Matrix: \\n {cm_df}\" )\n",
    "    print(f\"\\n Classification Report: \\n {classification_report(y_test, y_pred)}\")\n",
    "    "
   ]
  },
  {
   "cell_type": "code",
   "execution_count": 12,
   "metadata": {},
   "outputs": [],
   "source": [
    "# Support Vector Machine - used model Linear SVC because svm =SVC(kernel='linear') kept hanging\n",
    "\n",
    "if model_type == \"SV\":\n",
    "    # Create the SVM model\n",
    "    svm =LinearSVC()\n",
    "    \n",
    "    # Train the model\n",
    "    svm.fit(X_train,y_train)\n",
    "    \n",
    "    # Evaluate the model\n",
    "    y_pred =svm.predict(X_test)\n",
    "    \n",
    "    cm = confusion_matrix(y_test, y_pred)\n",
    "    acc_score = accuracy_score(y_test, y_pred)\n",
    "       \n",
    "    # Get coefficients of the model\n",
    "    coef = pd.Series(svm.coef_.ravel())\n",
    "    intercept = svm.intercept_\n",
    "    output=sorted(zip(coef, X.columns), reverse=True)\n",
    "    output_df = pd.DataFrame(output, columns = ['Coefficient','Feature'])\n",
    "    print(f\" SVM model parameters: \\n {output_df}\")\n",
    "    \n",
    "    # Create a DataFrame from the confusion matrix.\n",
    "    cm_df = pd.DataFrame(cm, index=[\"Actual 0\", \"Actual 1\"], columns=[\"Predicted 0\", \"Predicted 1\"])\n",
    "\n",
    "    print(f\"\\n Sypport Vector Machine model accuracy: {acc_score:.3f}\")\n",
    "    print(f\"\\n Confusion Matrix: \\n {cm_df}\" )\n",
    "    print(f\"\\n Classification Report: \\n {classification_report(y_test, y_pred)}\")"
   ]
  },
  {
   "cell_type": "code",
   "execution_count": 13,
   "metadata": {},
   "outputs": [],
   "source": [
    "if model_type == \"NN\":\n",
    "    # Create the Keras Sequential model\n",
    "    # use validation_split argument to set the proportion of the dataset to reserve for validation\n",
    "    number_input_features =len(X_train[0])\n",
    "    hidden_nodes_layer1 = 5\n",
    "    hidden_nodes_layer2 = 3\n",
    "    nn =tf.keras.models.Sequential()\n",
    "    # layers\n",
    "    nn.add(tf.keras.layers.Dense(units=hidden_nodes_layer1,activation=\"tanh\",input_dim=number_input_features))\n",
    "    nn.add(tf.keras.layers.Dense(units=hidden_nodes_layer2,activation=\"tanh\"))\n",
    "\n",
    "    # Add the output layer that uses a probability activation function\n",
    "    nn.add(tf.keras.layers.Dense(units=1,activation=\"sigmoid\"))\n",
    "    \n",
    "    # Check the structure of the Sequential model\n",
    "    nn.summary()\n",
    "\n",
    "    # Compile the Sequential model together and customize metrics\n",
    "    nn.compile(loss=\"binary_crossentropy\",optimizer=\"adam\",metrics=[\"accuracy\"])\n",
    "\n",
    "    # Fit the model to the training data\n",
    "    fit_model =nn.fit(X_train,y_train,validation_split=.3, epochs=15)\n",
    "\n",
    "    # Evaluate the model using the test data\n",
    "    y_pred = nn.predict_classes(X_test) \n",
    "    model_loss,model_accuracy = nn.evaluate(X_test,y_test,verbose=2)\n",
    "    cm = confusion_matrix(y_test, y_pred)\n",
    "    cm_df = pd.DataFrame(cm, index=[\"Actual 0\", \"Actual 1\"], columns=[\"Predicted 0\", \"Predicted 1\"])\n",
    "\n",
    "    # Results of training:\n",
    "    print(\"Training Results\")\n",
    "    print(f\"\\n Deep Learning model accuracy: {model_accuracy:.3f}   loss: {model_loss}\")\n",
    "    print(f\"\\n Confusion Matrix: \\n {cm_df}\" )\n",
    "    print(f\"\\n Classification Report: \\n {classification_report(y_test, y_pred)}\")\n",
    "    \n",
    "    # Results based on validation Sample\n",
    "    # Create learning curve for both train and validation datasets to evaluate under- and over-fitting\n",
    "    print(\"Validation Results\")\n",
    "    history_dict=fit_model.history\n",
    "    loss_values = history_dict['loss']\n",
    "    val_loss_values = history_dict['val_loss']\n",
    "    accuracy = history_dict['accuracy']\n",
    "    val_accuracy = history_dict['val_accuracy']\n",
    "\n",
    "    epochs = range(1, len(loss_values) + 1)\n",
    "    fig, ax = plt.subplots(1, 2, figsize=(14, 4))\n",
    "    #\n",
    "    # Plot the model accuracy vs Epochs\n",
    "    #\n",
    "    ax[0].plot(epochs, accuracy, 'b', label='Training accuracy')\n",
    "    ax[0].plot(epochs, val_accuracy, 'g', label='Validation accuracy')\n",
    "    ax[0].set_title('Training & Validation Accuracy', fontsize=16)\n",
    "    ax[0].set_xlabel('Epochs', fontsize=16)\n",
    "    ax[0].set_ylabel('Accuracy', fontsize=16)\n",
    "    ax[0].legend()\n",
    "    #\n",
    "    # Plot the loss vs Epochs\n",
    "    #\n",
    "    ax[1].plot(epochs, loss_values, 'b', label='Training loss')\n",
    "    ax[1].plot(epochs, val_loss_values, 'g', label='Validation loss')\n",
    "    ax[1].set_title('Training & Validation Loss', fontsize=16)\n",
    "    ax[1].set_xlabel('Epochs', fontsize=16)\n",
    "    ax[1].set_ylabel('Loss', fontsize=16)\n",
    "    ax[1].legend()\n",
    "\n",
    "    plt.show()"
   ]
  },
  {
   "cell_type": "code",
   "execution_count": null,
   "metadata": {},
   "outputs": [],
   "source": []
  },
  {
   "cell_type": "code",
   "execution_count": null,
   "metadata": {},
   "outputs": [],
   "source": []
  }
 ],
 "metadata": {
  "kernelspec": {
   "display_name": "py37nbext",
   "language": "python",
   "name": "py37nbext"
  },
  "language_info": {
   "codemirror_mode": {
    "name": "ipython",
    "version": 3
   },
   "file_extension": ".py",
   "mimetype": "text/x-python",
   "name": "python",
   "nbconvert_exporter": "python",
   "pygments_lexer": "ipython3",
   "version": "3.7.10"
  }
 },
 "nbformat": 4,
 "nbformat_minor": 4
}
